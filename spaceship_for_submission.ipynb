{
 "cells": [
  {
   "cell_type": "code",
   "execution_count": 1,
   "metadata": {},
   "outputs": [],
   "source": [
    "# import modules\n",
    "import pandas as pd\n",
    "import numpy as np\n",
    "import matplotlib.pyplot as plt\n",
    "import seaborn as sns"
   ]
  },
  {
   "cell_type": "code",
   "execution_count": 3,
   "metadata": {},
   "outputs": [],
   "source": [
    "df_test=pd.read_csv(\"spaceship_test.csv\")"
   ]
  },
  {
   "cell_type": "markdown",
   "metadata": {},
   "source": [
    "檢查缺失值"
   ]
  },
  {
   "cell_type": "code",
   "execution_count": 5,
   "metadata": {},
   "outputs": [
    {
     "data": {
      "text/plain": [
       "PassengerId       0\n",
       "HomePlanet       87\n",
       "CryoSleep        93\n",
       "Cabin           100\n",
       "Destination      92\n",
       "Age              91\n",
       "VIP              93\n",
       "RoomService      82\n",
       "FoodCourt       106\n",
       "ShoppingMall     98\n",
       "Spa             101\n",
       "VRDeck           80\n",
       "Name             94\n",
       "dtype: int64"
      ]
     },
     "execution_count": 5,
     "metadata": {},
     "output_type": "execute_result"
    }
   ],
   "source": [
    "df_test.isnull().sum()"
   ]
  },
  {
   "cell_type": "markdown",
   "metadata": {},
   "source": [
    "使用訓練模型時相同的方式對test data進行資料前處理"
   ]
  },
  {
   "cell_type": "code",
   "execution_count": 6,
   "metadata": {},
   "outputs": [],
   "source": [
    "list_missing = list((df_test.select_dtypes(['object']).isna().sum() > 0).index)\n",
    "for col in list_missing:\n",
    "    df_test[col] = df_test[col].fillna(df_test[col].mode()[0])"
   ]
  },
  {
   "cell_type": "code",
   "execution_count": 7,
   "metadata": {},
   "outputs": [],
   "source": [
    "df_test[[\"CabinDeck\", \"CabinNo.\", \"CabinSide\"]] = df_test[\"Cabin\"].str.split('/', expand = True)\n",
    "df_test[[\"Group\", \"NuminGroup\"]] = df_test[\"PassengerId\"].str.split('_', expand = True)\n",
    "df_test.drop(\"NuminGroup\",axis=1,inplace=True)\n",
    "df_test.drop('Cabin',axis=1,inplace=True)\n",
    "df_test.drop('PassengerId',axis=1,inplace=True)"
   ]
  },
  {
   "cell_type": "code",
   "execution_count": 8,
   "metadata": {},
   "outputs": [],
   "source": [
    "df_test.drop('Name',axis=1,inplace=True)"
   ]
  },
  {
   "cell_type": "code",
   "execution_count": 9,
   "metadata": {},
   "outputs": [],
   "source": [
    "HomePlanet_mapping={\"Earth\":0,\"Europa\":1,\"Mars\":2}\n",
    "df_test['HomePlanet'] = df_test['HomePlanet'].map(HomePlanet_mapping)\n",
    "Destination_mapping={\"TRAPPIST-1e\":0,\"55 Cancri e\":1,\"PSO J318.5-22\":2}\n",
    "df_test['Destination'] = df_test['Destination'].map(Destination_mapping)\n",
    "CabinDeck_mapping={\"A\":0,\"B\":1,\"C\":2,\"D\":3,\"E\":4,\"F\":5,\"G\":6,\"T\":7}\n",
    "df_test['CabinDeck'] = df_test['CabinDeck'].map(CabinDeck_mapping)\n"
   ]
  },
  {
   "cell_type": "code",
   "execution_count": 13,
   "metadata": {},
   "outputs": [],
   "source": [
    "from sklearn.preprocessing import LabelEncoder\n",
    "le = LabelEncoder()\n",
    "df_test['CabinNo.']=le.fit_transform(df_test['CabinNo.'])\n",
    "CabinSide_mapping={\"S\":0,\"P\":1}\n",
    "df_test['CabinSide'] = df_test['CabinSide'].map(CabinSide_mapping)\n",
    "df_test['Group']=le.fit_transform(df_test['Group'])"
   ]
  },
  {
   "cell_type": "code",
   "execution_count": 14,
   "metadata": {},
   "outputs": [],
   "source": [
    "df_test['Age'].fillna(df_test['Age'].median(),inplace=True)\n",
    "df_test['RoomService'].fillna(0,inplace=True)\n",
    "df_test['FoodCourt'].fillna(0,inplace=True)\n",
    "df_test['ShoppingMall'].fillna(0,inplace=True)\n",
    "df_test['Spa'].fillna(0,inplace=True)\n",
    "df_test['VRDeck'].fillna(0,inplace=True)"
   ]
  },
  {
   "cell_type": "markdown",
   "metadata": {},
   "source": [
    "確認補值完畢"
   ]
  },
  {
   "cell_type": "code",
   "execution_count": 15,
   "metadata": {},
   "outputs": [
    {
     "data": {
      "text/plain": [
       "HomePlanet      0\n",
       "CryoSleep       0\n",
       "Destination     0\n",
       "Age             0\n",
       "VIP             0\n",
       "RoomService     0\n",
       "FoodCourt       0\n",
       "ShoppingMall    0\n",
       "Spa             0\n",
       "VRDeck          0\n",
       "CabinDeck       0\n",
       "CabinNo.        0\n",
       "CabinSide       0\n",
       "Group           0\n",
       "dtype: int64"
      ]
     },
     "execution_count": 15,
     "metadata": {},
     "output_type": "execute_result"
    }
   ],
   "source": [
    "df_test.isnull().sum()"
   ]
  },
  {
   "cell_type": "markdown",
   "metadata": {},
   "source": [
    "載入訓練好的模型"
   ]
  },
  {
   "cell_type": "code",
   "execution_count": 20,
   "metadata": {},
   "outputs": [
    {
     "data": {
      "text/plain": [
       "array([ True, False,  True, ...,  True,  True,  True])"
      ]
     },
     "execution_count": 20,
     "metadata": {},
     "output_type": "execute_result"
    }
   ],
   "source": [
    "import joblib\n",
    "model_pretrained=joblib.load('Spaceship-LR.pk1')\n",
    "predictions=model_pretrained.predict(df_test)\n",
    "predictions"
   ]
  },
  {
   "cell_type": "code",
   "execution_count": 29,
   "metadata": {},
   "outputs": [],
   "source": [
    "df_sub=pd.read_csv(\"spaceship_test.csv\")"
   ]
  },
  {
   "cell_type": "markdown",
   "metadata": {},
   "source": [
    "依照繳交格式新增新的dataframe"
   ]
  },
  {
   "cell_type": "code",
   "execution_count": 30,
   "metadata": {},
   "outputs": [],
   "source": [
    "forSubmissionDF = pd.DataFrame(columns=['PassengerId','Transported'])\n",
    "forSubmissionDF['PassengerId']=df_sub['PassengerId']\n"
   ]
  },
  {
   "cell_type": "markdown",
   "metadata": {},
   "source": [
    "將預測結果加入新的dataset"
   ]
  },
  {
   "cell_type": "code",
   "execution_count": 31,
   "metadata": {},
   "outputs": [
    {
     "data": {
      "text/html": [
       "<div>\n",
       "<style scoped>\n",
       "    .dataframe tbody tr th:only-of-type {\n",
       "        vertical-align: middle;\n",
       "    }\n",
       "\n",
       "    .dataframe tbody tr th {\n",
       "        vertical-align: top;\n",
       "    }\n",
       "\n",
       "    .dataframe thead th {\n",
       "        text-align: right;\n",
       "    }\n",
       "</style>\n",
       "<table border=\"1\" class=\"dataframe\">\n",
       "  <thead>\n",
       "    <tr style=\"text-align: right;\">\n",
       "      <th></th>\n",
       "      <th>PassengerId</th>\n",
       "      <th>Transported</th>\n",
       "    </tr>\n",
       "  </thead>\n",
       "  <tbody>\n",
       "    <tr>\n",
       "      <th>0</th>\n",
       "      <td>0013_01</td>\n",
       "      <td>True</td>\n",
       "    </tr>\n",
       "    <tr>\n",
       "      <th>1</th>\n",
       "      <td>0018_01</td>\n",
       "      <td>False</td>\n",
       "    </tr>\n",
       "    <tr>\n",
       "      <th>2</th>\n",
       "      <td>0019_01</td>\n",
       "      <td>True</td>\n",
       "    </tr>\n",
       "    <tr>\n",
       "      <th>3</th>\n",
       "      <td>0021_01</td>\n",
       "      <td>True</td>\n",
       "    </tr>\n",
       "    <tr>\n",
       "      <th>4</th>\n",
       "      <td>0023_01</td>\n",
       "      <td>False</td>\n",
       "    </tr>\n",
       "    <tr>\n",
       "      <th>...</th>\n",
       "      <td>...</td>\n",
       "      <td>...</td>\n",
       "    </tr>\n",
       "    <tr>\n",
       "      <th>4272</th>\n",
       "      <td>9266_02</td>\n",
       "      <td>True</td>\n",
       "    </tr>\n",
       "    <tr>\n",
       "      <th>4273</th>\n",
       "      <td>9269_01</td>\n",
       "      <td>False</td>\n",
       "    </tr>\n",
       "    <tr>\n",
       "      <th>4274</th>\n",
       "      <td>9271_01</td>\n",
       "      <td>True</td>\n",
       "    </tr>\n",
       "    <tr>\n",
       "      <th>4275</th>\n",
       "      <td>9273_01</td>\n",
       "      <td>True</td>\n",
       "    </tr>\n",
       "    <tr>\n",
       "      <th>4276</th>\n",
       "      <td>9277_01</td>\n",
       "      <td>True</td>\n",
       "    </tr>\n",
       "  </tbody>\n",
       "</table>\n",
       "<p>4277 rows × 2 columns</p>\n",
       "</div>"
      ],
      "text/plain": [
       "     PassengerId  Transported\n",
       "0        0013_01         True\n",
       "1        0018_01        False\n",
       "2        0019_01         True\n",
       "3        0021_01         True\n",
       "4        0023_01        False\n",
       "...          ...          ...\n",
       "4272     9266_02         True\n",
       "4273     9269_01        False\n",
       "4274     9271_01         True\n",
       "4275     9273_01         True\n",
       "4276     9277_01         True\n",
       "\n",
       "[4277 rows x 2 columns]"
      ]
     },
     "execution_count": 31,
     "metadata": {},
     "output_type": "execute_result"
    }
   ],
   "source": [
    "forSubmissionDF['Transported']=predictions\n",
    "forSubmissionDF"
   ]
  },
  {
   "cell_type": "code",
   "execution_count": 33,
   "metadata": {},
   "outputs": [],
   "source": [
    "forSubmissionDF.to_csv('for_submission.csv',index=False)"
   ]
  },
  {
   "cell_type": "markdown",
   "metadata": {},
   "source": [
    "# Kaggle競賽分數"
   ]
  },
  {
   "cell_type": "markdown",
   "metadata": {},
   "source": [
    "Public score : 0.78"
   ]
  },
  {
   "cell_type": "markdown",
   "metadata": {},
   "source": [
    "# 改善方向"
   ]
  },
  {
   "cell_type": "markdown",
   "metadata": {},
   "source": [
    "若要提高競賽分數及模型準確度，未來可以有以下幾種進步方向 : \n",
    "1. 資料前處理補值方法 : 可以嘗試其他方式進行補值，例如:補0改為以中位數補值，先將資料集分組後再以各組的中間值進行補值，像是課程中的titanic預測中使用性別分組，但因為此資料集並沒有較直覺的分組方式，所以我覺得思考如何將其分組也是未來可已進步改善的地方。或是若缺失值佔資料集總比例不多，可以直接將有缺失值的那筆資料刪除，上課時有提到，因為補值算是虛假的資料，可能無法貼合資料真實的情況，或多或少都會影響到模型預測的效果，所以有時直接將有缺失值的資料刪除模型準確度會較高。\n",
    "2. 更改模型 : 本次競賽使用的模型為LogisticRegression，可以多用幾種模型實驗，選出分數最高的模型。\n",
    "例如:Decision Tree、Random Forest或是Kaggle比賽中很多人使用的XGBoost，它的優點是有很多的參數可以調整，可以找到最符合資料集的參數設定。\n",
    "3. 進行欄位篩選 : 目前使用了14個欄位進行模型訓練，可以對資料及進行特徵篩選，使用RFECV等方法，選出分數最高，訓練模型效果最好的特徵子集合做為模型訓練使用，不需要用到所有的欄位。或是可以對欄位做處理，像是RoomService/FoodCourt/ShoppingMall/Spa/VRDeck 5個欄位是乘客在Titanic上的消費金額，可以想辦法將其合併或是作金額區段編碼。\n"
   ]
  }
 ],
 "metadata": {
  "kernelspec": {
   "display_name": ".ml1121-env",
   "language": "python",
   "name": "python3"
  },
  "language_info": {
   "codemirror_mode": {
    "name": "ipython",
    "version": 3
   },
   "file_extension": ".py",
   "mimetype": "text/x-python",
   "name": "python",
   "nbconvert_exporter": "python",
   "pygments_lexer": "ipython3",
   "version": "3.9.7"
  }
 },
 "nbformat": 4,
 "nbformat_minor": 2
}
